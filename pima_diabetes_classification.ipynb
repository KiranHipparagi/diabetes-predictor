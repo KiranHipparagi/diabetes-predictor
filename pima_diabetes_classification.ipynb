{
 "cells": [
  {
   "cell_type": "markdown",
   "metadata": {
    "id": "cm5e3YV24x3Q",
    "papermill": {
     "duration": 0.019552,
     "end_time": "2020-08-12T07:15:52.991714",
     "exception": false,
     "start_time": "2020-08-12T07:15:52.972162",
     "status": "completed"
    },
    "tags": []
   },
   "source": [
    "# PIMA Diabetes Dataset\n",
    "\n",
    "In this notebook, I have made an attempt  to diagnostically predict whether or not a patient has diabetes, based on certain diagnostic measurements included in the dataset.\n",
    "\n",
    "Here, I have implemented various Classification techniques and since the dataset is fairly balanced in terms of 0 and 1 outcomes, the best accuracy which I could come up with was 77.604% using ensemble RANDOM FOREST classifier.\n",
    "\n",
    "**Note: In the dataset some independent variables have '0' values like Insulin, Blood Pressure(which realistically can't be zero). So, I have tried to replace those '0' values by using imputer technique.**"
   ]
  },
  {
   "cell_type": "markdown",
   "metadata": {
    "id": "7jqJk3vC6Pr5"
   },
   "source": [
    "# Importing the Libraries and reading the csv data file"
   ]
  },
  {
   "cell_type": "code",
   "execution_count": 1,
   "metadata": {
    "_cell_guid": "79c7e3d0-c299-4dcb-8224-4455121ee9b0",
    "_uuid": "d629ff2d2480ee46fbb7e2d37f6b5fab8052498a",
    "execution": {
     "iopub.execute_input": "2020-08-12T07:15:53.075525Z",
     "iopub.status.busy": "2020-08-12T07:15:53.074732Z",
     "iopub.status.idle": "2020-08-12T07:15:53.078770Z",
     "shell.execute_reply": "2020-08-12T07:15:53.077951Z"
    },
    "id": "X2aZm04j4x3W",
    "papermill": {
     "duration": 0.024966,
     "end_time": "2020-08-12T07:15:53.078908",
     "exception": false,
     "start_time": "2020-08-12T07:15:53.053942",
     "status": "completed"
    },
    "tags": []
   },
   "outputs": [],
   "source": [
    "import pandas as pd\n",
    "import matplotlib.pyplot as plt\n",
    "import numpy as np"
   ]
  },
  {
   "cell_type": "code",
   "execution_count": 2,
   "metadata": {
    "execution": {
     "iopub.execute_input": "2020-08-12T07:15:53.118218Z",
     "iopub.status.busy": "2020-08-12T07:15:53.116983Z",
     "iopub.status.idle": "2020-08-12T07:15:53.132068Z",
     "shell.execute_reply": "2020-08-12T07:15:53.131234Z"
    },
    "id": "EB-WRC-r4x3Z",
    "papermill": {
     "duration": 0.037274,
     "end_time": "2020-08-12T07:15:53.132213",
     "exception": false,
     "start_time": "2020-08-12T07:15:53.094939",
     "status": "completed"
    },
    "tags": []
   },
   "outputs": [],
   "source": [
    "df = pd.read_csv('diabetes.csv')"
   ]
  },
  {
   "cell_type": "code",
   "execution_count": 3,
   "metadata": {
    "colab": {
     "base_uri": "https://localhost:8080/",
     "height": 204
    },
    "execution": {
     "iopub.execute_input": "2020-08-12T07:15:53.179698Z",
     "iopub.status.busy": "2020-08-12T07:15:53.178856Z",
     "iopub.status.idle": "2020-08-12T07:15:53.196462Z",
     "shell.execute_reply": "2020-08-12T07:15:53.197095Z"
    },
    "id": "v9zNXUXa4x3b",
    "outputId": "e9cc31da-8182-4b08-9544-d84e45fc4bba",
    "papermill": {
     "duration": 0.049237,
     "end_time": "2020-08-12T07:15:53.197272",
     "exception": false,
     "start_time": "2020-08-12T07:15:53.148035",
     "status": "completed"
    },
    "tags": []
   },
   "outputs": [
    {
     "data": {
      "text/html": [
       "<div>\n",
       "<style scoped>\n",
       "    .dataframe tbody tr th:only-of-type {\n",
       "        vertical-align: middle;\n",
       "    }\n",
       "\n",
       "    .dataframe tbody tr th {\n",
       "        vertical-align: top;\n",
       "    }\n",
       "\n",
       "    .dataframe thead th {\n",
       "        text-align: right;\n",
       "    }\n",
       "</style>\n",
       "<table border=\"1\" class=\"dataframe\">\n",
       "  <thead>\n",
       "    <tr style=\"text-align: right;\">\n",
       "      <th></th>\n",
       "      <th>Pregnancies</th>\n",
       "      <th>Glucose</th>\n",
       "      <th>BloodPressure</th>\n",
       "      <th>SkinThickness</th>\n",
       "      <th>Insulin</th>\n",
       "      <th>BMI</th>\n",
       "      <th>DiabetesPedigreeFunction</th>\n",
       "      <th>Age</th>\n",
       "      <th>Outcome</th>\n",
       "    </tr>\n",
       "  </thead>\n",
       "  <tbody>\n",
       "    <tr>\n",
       "      <th>0</th>\n",
       "      <td>6</td>\n",
       "      <td>148</td>\n",
       "      <td>72</td>\n",
       "      <td>35</td>\n",
       "      <td>0</td>\n",
       "      <td>33.6</td>\n",
       "      <td>0.627</td>\n",
       "      <td>50</td>\n",
       "      <td>1</td>\n",
       "    </tr>\n",
       "    <tr>\n",
       "      <th>1</th>\n",
       "      <td>1</td>\n",
       "      <td>85</td>\n",
       "      <td>66</td>\n",
       "      <td>29</td>\n",
       "      <td>0</td>\n",
       "      <td>26.6</td>\n",
       "      <td>0.351</td>\n",
       "      <td>31</td>\n",
       "      <td>0</td>\n",
       "    </tr>\n",
       "    <tr>\n",
       "      <th>2</th>\n",
       "      <td>8</td>\n",
       "      <td>183</td>\n",
       "      <td>64</td>\n",
       "      <td>0</td>\n",
       "      <td>0</td>\n",
       "      <td>23.3</td>\n",
       "      <td>0.672</td>\n",
       "      <td>32</td>\n",
       "      <td>1</td>\n",
       "    </tr>\n",
       "    <tr>\n",
       "      <th>3</th>\n",
       "      <td>1</td>\n",
       "      <td>89</td>\n",
       "      <td>66</td>\n",
       "      <td>23</td>\n",
       "      <td>94</td>\n",
       "      <td>28.1</td>\n",
       "      <td>0.167</td>\n",
       "      <td>21</td>\n",
       "      <td>0</td>\n",
       "    </tr>\n",
       "    <tr>\n",
       "      <th>4</th>\n",
       "      <td>0</td>\n",
       "      <td>137</td>\n",
       "      <td>40</td>\n",
       "      <td>35</td>\n",
       "      <td>168</td>\n",
       "      <td>43.1</td>\n",
       "      <td>2.288</td>\n",
       "      <td>33</td>\n",
       "      <td>1</td>\n",
       "    </tr>\n",
       "  </tbody>\n",
       "</table>\n",
       "</div>"
      ],
      "text/plain": [
       "   Pregnancies  Glucose  BloodPressure  SkinThickness  Insulin   BMI  \\\n",
       "0            6      148             72             35        0  33.6   \n",
       "1            1       85             66             29        0  26.6   \n",
       "2            8      183             64              0        0  23.3   \n",
       "3            1       89             66             23       94  28.1   \n",
       "4            0      137             40             35      168  43.1   \n",
       "\n",
       "   DiabetesPedigreeFunction  Age  Outcome  \n",
       "0                     0.627   50        1  \n",
       "1                     0.351   31        0  \n",
       "2                     0.672   32        1  \n",
       "3                     0.167   21        0  \n",
       "4                     2.288   33        1  "
      ]
     },
     "execution_count": 3,
     "metadata": {},
     "output_type": "execute_result"
    }
   ],
   "source": [
    "df.head()"
   ]
  },
  {
   "cell_type": "code",
   "execution_count": 4,
   "metadata": {
    "colab": {
     "base_uri": "https://localhost:8080/",
     "height": 187
    },
    "execution": {
     "iopub.execute_input": "2020-08-12T07:15:53.240089Z",
     "iopub.status.busy": "2020-08-12T07:15:53.238862Z",
     "iopub.status.idle": "2020-08-12T07:15:53.243360Z",
     "shell.execute_reply": "2020-08-12T07:15:53.243931Z"
    },
    "id": "wR7TM0MM4x3e",
    "outputId": "ca06daa1-72d8-43af-bc69-df7d491a9b15",
    "papermill": {
     "duration": 0.030793,
     "end_time": "2020-08-12T07:15:53.244116",
     "exception": false,
     "start_time": "2020-08-12T07:15:53.213323",
     "status": "completed"
    },
    "tags": []
   },
   "outputs": [
    {
     "data": {
      "text/plain": [
       "Pregnancies                 0\n",
       "Glucose                     0\n",
       "BloodPressure               0\n",
       "SkinThickness               0\n",
       "Insulin                     0\n",
       "BMI                         0\n",
       "DiabetesPedigreeFunction    0\n",
       "Age                         0\n",
       "Outcome                     0\n",
       "dtype: int64"
      ]
     },
     "execution_count": 4,
     "metadata": {},
     "output_type": "execute_result"
    }
   ],
   "source": [
    "df.isnull().sum()\n",
    "#to check for missing values in the dataset"
   ]
  },
  {
   "cell_type": "code",
   "execution_count": 5,
   "metadata": {
    "colab": {
     "base_uri": "https://localhost:8080/",
     "height": 333
    },
    "execution": {
     "iopub.execute_input": "2020-08-12T07:15:53.283348Z",
     "iopub.status.busy": "2020-08-12T07:15:53.282563Z",
     "iopub.status.idle": "2020-08-12T07:15:54.828072Z",
     "shell.execute_reply": "2020-08-12T07:15:54.828650Z"
    },
    "id": "Vt9wBvL04x3h",
    "outputId": "befb5cf5-9428-4984-b292-b1320759d3ba",
    "papermill": {
     "duration": 1.568213,
     "end_time": "2020-08-12T07:15:54.828838",
     "exception": false,
     "start_time": "2020-08-12T07:15:53.260625",
     "status": "completed"
    },
    "tags": []
   },
   "outputs": [
    {
     "data": {
      "image/png": "[encoded data removed]",
      "text/plain": [
       "<Figure size 432x288 with 1 Axes>"
      ]
     },
     "metadata": {
      "needs_background": "light"
     },
     "output_type": "display_data"
    }
   ],
   "source": [
    "import seaborn as sns\n",
    "sns.countplot(x='Outcome', data=df)\n",
    "plt.show()"
   ]
  },
  {
   "cell_type": "code",
   "execution_count": 6,
   "metadata": {
    "colab": {
     "base_uri": "https://localhost:8080/",
     "height": 34
    },
    "execution": {
     "iopub.execute_input": "2020-08-12T07:15:54.874529Z",
     "iopub.status.busy": "2020-08-12T07:15:54.873570Z",
     "iopub.status.idle": "2020-08-12T07:15:54.878856Z",
     "shell.execute_reply": "2020-08-12T07:15:54.878217Z"
    },
    "id": "Kz_zEqwY4x3k",
    "outputId": "fbb29b51-39d0-4394-9e03-d3951c0b9c24",
    "papermill": {
     "duration": 0.033392,
     "end_time": "2020-08-12T07:15:54.878999",
     "exception": false,
     "start_time": "2020-08-12T07:15:54.845607",
     "status": "completed"
    },
    "tags": []
   },
   "outputs": [
    {
     "data": {
      "text/plain": [
       "(268, 500)"
      ]
     },
     "execution_count": 6,
     "metadata": {},
     "output_type": "execute_result"
    }
   ],
   "source": [
    "diabetes_count = len(df.loc[df['Outcome'] == 1])\n",
    "no_diabetes_count=len(df.loc[df['Outcome']==0])\n",
    "(diabetes_count, no_diabetes_count)"
   ]
  },
  {
   "cell_type": "markdown",
   "metadata": {
    "id": "whU5Swrp4x3n",
    "papermill": {
     "duration": 0.016642,
     "end_time": "2020-08-12T07:15:54.912922",
     "exception": false,
     "start_time": "2020-08-12T07:15:54.896280",
     "status": "completed"
    },
    "tags": []
   },
   "source": [
    "The dataset is fairly balanced in terms of 0 and 1 outcomes."
   ]
  },
  {
   "cell_type": "markdown",
   "metadata": {
    "id": "e0oJ1yof6gpH"
   },
   "source": [
    "# EDA, Data Visualization & Data Cleaning"
   ]
  },
  {
   "cell_type": "code",
   "execution_count": 7,
   "metadata": {
    "colab": {
     "base_uri": "https://localhost:8080/",
     "height": 1000
    },
    "execution": {
     "iopub.execute_input": "2020-08-12T07:15:54.965260Z",
     "iopub.status.busy": "2020-08-12T07:15:54.963955Z",
     "iopub.status.idle": "2020-08-12T07:15:56.719191Z",
     "shell.execute_reply": "2020-08-12T07:15:56.718347Z"
    },
    "id": "TFO99Y9A4x3n",
    "outputId": "ffb8d5a9-2c81-43f4-b764-0a8278796aad",
    "papermill": {
     "duration": 1.789493,
     "end_time": "2020-08-12T07:15:56.719337",
     "exception": false,
     "start_time": "2020-08-12T07:15:54.929844",
     "status": "completed"
    },
    "tags": []
   },
   "outputs": [
    {
     "data": {
      "image/png": "[encoded data removed]",
      "text/plain": [
       "<Figure size 432x288 with 1 Axes>"
      ]
     },
     "metadata": {
      "needs_background": "light"
     },
     "output_type": "display_data"
    },
    {
     "data": {
      "image/png": "[encoded data removed]",
      "text/plain": [
       "<Figure size 432x288 with 1 Axes>"
      ]
     },
     "metadata": {
      "needs_background": "light"
     },
     "output_type": "display_data"
    },
    {
     "data": {
      "image/png": "[encoded data removed]",
      "text/plain": [
       "<Figure size 432x288 with 1 Axes>"
      ]
     },
     "metadata": {
      "needs_background": "light"
     },
     "output_type": "display_data"
    },
    {
     "data": {
      "image/png": "[encoded data removed]",
      "text/plain": [
       "<Figure size 432x288 with 1 Axes>"
      ]
     },
     "metadata": {
      "needs_background": "light"
     },
     "output_type": "display_data"
    },
    {
     "data": {
      "image/png": "[encoded data removed]",
      "text/plain": [
       "<Figure size 432x288 with 1 Axes>"
      ]
     },
     "metadata": {
      "needs_background": "light"
     },
     "output_type": "display_data"
    },
    {
     "data": {
      "image/png": "[encoded data removed]",
      "text/plain": [
       "<Figure size 432x288 with 1 Axes>"
      ]
     },
     "metadata": {
      "needs_background": "light"
     },
     "output_type": "display_data"
    },
    {
     "data": {
      "image/png": "[encoded data removed]",
      "text/plain": [
       "<Figure size 432x288 with 1 Axes>"
      ]
     },
     "metadata": {
      "needs_background": "light"
     },
     "output_type": "display_data"
    },
    {
     "data": {
      "image/png": "[encoded data removed]",
      "text/plain": [
       "<Figure size 432x288 with 1 Axes>"
      ]
     },
     "metadata": {
      "needs_background": "light"
     },
     "output_type": "display_data"
    }
   ],
   "source": [
    "#distribution of various parameters in the dataset except the target variable\n",
    "cols=['Pregnancies','Glucose','BloodPressure','SkinThickness',\n",
    "      'Insulin','BMI','DiabetesPedigreeFunction','Age']\n",
    "num=df[cols]\n",
    "for i in num.columns:\n",
    "    plt.hist(num[i])\n",
    "    plt.title(i)\n",
    "    plt.show()"
   ]
  },
  {
   "cell_type": "markdown",
   "metadata": {
    "id": "7nulNaAV4x3q",
    "papermill": {
     "duration": 0.018128,
     "end_time": "2020-08-12T07:15:56.756327",
     "exception": false,
     "start_time": "2020-08-12T07:15:56.738199",
     "status": "completed"
    },
    "tags": []
   },
   "source": [
    "Some variables have '0' values. However, we need to replace those '0' values by using imputer technique."
   ]
  },
  {
   "cell_type": "markdown",
   "metadata": {
    "id": "I80cCY2o6sjR"
   },
   "source": [
    "# Note: In the dataset some independent variables have '0' values like Insulin, Blood Pressure(which realistically can't be zero). So, I have tried to replace those '0' values by using imputer technique."
   ]
  },
  {
   "cell_type": "code",
   "execution_count": 8,
   "metadata": {
    "colab": {
     "base_uri": "https://localhost:8080/",
     "height": 170
    },
    "execution": {
     "iopub.execute_input": "2020-08-12T07:15:56.815160Z",
     "iopub.status.busy": "2020-08-12T07:15:56.810792Z",
     "iopub.status.idle": "2020-08-12T07:15:56.820478Z",
     "shell.execute_reply": "2020-08-12T07:15:56.819602Z"
    },
    "id": "IxdJFOia4x3q",
    "outputId": "dc9a34a2-66a1-4d85-ab17-3fe21d216e2c",
    "papermill": {
     "duration": 0.045969,
     "end_time": "2020-08-12T07:15:56.820660",
     "exception": false,
     "start_time": "2020-08-12T07:15:56.774691",
     "status": "completed"
    },
    "tags": []
   },
   "outputs": [
    {
     "name": "stdout",
     "output_type": "stream",
     "text": [
      "total number of rows : 768\n",
      "number of rows with 0 Pregnancies: 111\n",
      "number of rows with 0 Glucose: 5\n",
      "number of rows with 0 BloodPressure: 35\n",
      "number of rows with 0 SkinThickness: 227\n",
      "number of rows with 0 Insulin: 374\n",
      "number of rows with 0 BMI: 11\n",
      "number of rows with 0 DiabetesPedigreeFunction: 0\n",
      "number of rows with 0 Ages: 0\n"
     ]
    }
   ],
   "source": [
    "print(\"total number of rows : {0}\".format(len(df)))\n",
    "print(\"number of rows with 0 Pregnancies: {0}\".format(len(df.loc[df['Pregnancies'] == 0])))\n",
    "print(\"number of rows with 0 Glucose: {0}\".format(len(df.loc[df['Glucose'] == 0])))\n",
    "print(\"number of rows with 0 BloodPressure: {0}\".format(len(df.loc[df['BloodPressure'] == 0])))\n",
    "print(\"number of rows with 0 SkinThickness: {0}\".format(len(df.loc[df['SkinThickness'] == 0])))\n",
    "print(\"number of rows with 0 Insulin: {0}\".format(len(df.loc[df['Insulin'] == 0])))\n",
    "print(\"number of rows with 0 BMI: {0}\".format(len(df.loc[df['BMI'] == 0])))\n",
    "print(\"number of rows with 0 DiabetesPedigreeFunction: {0}\".format(len(df.loc[df['DiabetesPedigreeFunction'] == 0])))\n",
    "print(\"number of rows with 0 Ages: {0}\".format(len(df.loc[df['Age'] == 0])))"
   ]
  },
  {
   "cell_type": "code",
   "execution_count": 9,
   "metadata": {
    "execution": {
     "iopub.execute_input": "2020-08-12T07:15:56.867663Z",
     "iopub.status.busy": "2020-08-12T07:15:56.866802Z",
     "iopub.status.idle": "2020-08-12T07:15:57.260409Z",
     "shell.execute_reply": "2020-08-12T07:15:57.259678Z"
    },
    "id": "JWIud0T54x3s",
    "papermill": {
     "duration": 0.420815,
     "end_time": "2020-08-12T07:15:57.260594",
     "exception": false,
     "start_time": "2020-08-12T07:15:56.839779",
     "status": "completed"
    },
    "tags": []
   },
   "outputs": [],
   "source": [
    "from sklearn.impute import SimpleImputer\n",
    "zcol=['Glucose','BloodPressure','SkinThickness',\n",
    "      'Insulin','BMI']\n",
    "zcols=df[zcol]\n",
    "imputer = SimpleImputer(missing_values=0, strategy=\"mean\", verbose=0)\n",
    "imputed_df = pd.DataFrame(imputer.fit_transform(zcols))\n",
    "imputed_df.columns = zcols.columns\n",
    "temp=imputed_df.copy()\n",
    "zcols=temp.copy()"
   ]
  },
  {
   "cell_type": "code",
   "execution_count": 10,
   "metadata": {
    "colab": {
     "base_uri": "https://localhost:8080/",
     "height": 204
    },
    "execution": {
     "iopub.execute_input": "2020-08-12T07:15:57.318666Z",
     "iopub.status.busy": "2020-08-12T07:15:57.317405Z",
     "iopub.status.idle": "2020-08-12T07:15:57.321398Z",
     "shell.execute_reply": "2020-08-12T07:15:57.322004Z"
    },
    "id": "AGFg3eiL4x3u",
    "outputId": "3e66a61e-1cf5-4e5a-b34d-7f9dfaf34fbd",
    "papermill": {
     "duration": 0.041027,
     "end_time": "2020-08-12T07:15:57.322177",
     "exception": false,
     "start_time": "2020-08-12T07:15:57.281150",
     "status": "completed"
    },
    "tags": []
   },
   "outputs": [
    {
     "data": {
      "text/html": [
       "<div>\n",
       "<style scoped>\n",
       "    .dataframe tbody tr th:only-of-type {\n",
       "        vertical-align: middle;\n",
       "    }\n",
       "\n",
       "    .dataframe tbody tr th {\n",
       "        vertical-align: top;\n",
       "    }\n",
       "\n",
       "    .dataframe thead th {\n",
       "        text-align: right;\n",
       "    }\n",
       "</style>\n",
       "<table border=\"1\" class=\"dataframe\">\n",
       "  <thead>\n",
       "    <tr style=\"text-align: right;\">\n",
       "      <th></th>\n",
       "      <th>Glucose</th>\n",
       "      <th>BloodPressure</th>\n",
       "      <th>SkinThickness</th>\n",
       "      <th>Insulin</th>\n",
       "      <th>BMI</th>\n",
       "    </tr>\n",
       "  </thead>\n",
       "  <tbody>\n",
       "    <tr>\n",
       "      <th>0</th>\n",
       "      <td>148.0</td>\n",
       "      <td>72.0</td>\n",
       "      <td>35.00000</td>\n",
       "      <td>155.548223</td>\n",
       "      <td>33.6</td>\n",
       "    </tr>\n",
       "    <tr>\n",
       "      <th>1</th>\n",
       "      <td>85.0</td>\n",
       "      <td>66.0</td>\n",
       "      <td>29.00000</td>\n",
       "      <td>155.548223</td>\n",
       "      <td>26.6</td>\n",
       "    </tr>\n",
       "    <tr>\n",
       "      <th>2</th>\n",
       "      <td>183.0</td>\n",
       "      <td>64.0</td>\n",
       "      <td>29.15342</td>\n",
       "      <td>155.548223</td>\n",
       "      <td>23.3</td>\n",
       "    </tr>\n",
       "    <tr>\n",
       "      <th>3</th>\n",
       "      <td>89.0</td>\n",
       "      <td>66.0</td>\n",
       "      <td>23.00000</td>\n",
       "      <td>94.000000</td>\n",
       "      <td>28.1</td>\n",
       "    </tr>\n",
       "    <tr>\n",
       "      <th>4</th>\n",
       "      <td>137.0</td>\n",
       "      <td>40.0</td>\n",
       "      <td>35.00000</td>\n",
       "      <td>168.000000</td>\n",
       "      <td>43.1</td>\n",
       "    </tr>\n",
       "  </tbody>\n",
       "</table>\n",
       "</div>"
      ],
      "text/plain": [
       "   Glucose  BloodPressure  SkinThickness     Insulin   BMI\n",
       "0    148.0           72.0       35.00000  155.548223  33.6\n",
       "1     85.0           66.0       29.00000  155.548223  26.6\n",
       "2    183.0           64.0       29.15342  155.548223  23.3\n",
       "3     89.0           66.0       23.00000   94.000000  28.1\n",
       "4    137.0           40.0       35.00000  168.000000  43.1"
      ]
     },
     "execution_count": 10,
     "metadata": {},
     "output_type": "execute_result"
    }
   ],
   "source": [
    "zcols.head()"
   ]
  },
  {
   "cell_type": "code",
   "execution_count": 11,
   "metadata": {
    "execution": {
     "iopub.execute_input": "2020-08-12T07:15:57.368793Z",
     "iopub.status.busy": "2020-08-12T07:15:57.367614Z",
     "iopub.status.idle": "2020-08-12T07:15:57.371896Z",
     "shell.execute_reply": "2020-08-12T07:15:57.371011Z"
    },
    "id": "Es60gZH54x3x",
    "papermill": {
     "duration": 0.031057,
     "end_time": "2020-08-12T07:15:57.372053",
     "exception": false,
     "start_time": "2020-08-12T07:15:57.340996",
     "status": "completed"
    },
    "tags": []
   },
   "outputs": [],
   "source": [
    "df.drop(['Glucose','BloodPressure','SkinThickness',\n",
    "      'Insulin','BMI'], axis=1, inplace=True)"
   ]
  },
  {
   "cell_type": "code",
   "execution_count": 12,
   "metadata": {
    "colab": {
     "base_uri": "https://localhost:8080/",
     "height": 204
    },
    "execution": {
     "iopub.execute_input": "2020-08-12T07:15:57.423046Z",
     "iopub.status.busy": "2020-08-12T07:15:57.422137Z",
     "iopub.status.idle": "2020-08-12T07:15:57.442769Z",
     "shell.execute_reply": "2020-08-12T07:15:57.441829Z"
    },
    "id": "QtmYZ8cV4x30",
    "outputId": "5b55232f-ce43-48ed-d13e-c6a0a59724b1",
    "papermill": {
     "duration": 0.051174,
     "end_time": "2020-08-12T07:15:57.442987",
     "exception": false,
     "start_time": "2020-08-12T07:15:57.391813",
     "status": "completed"
    },
    "tags": []
   },
   "outputs": [
    {
     "data": {
      "text/html": [
       "<div>\n",
       "<style scoped>\n",
       "    .dataframe tbody tr th:only-of-type {\n",
       "        vertical-align: middle;\n",
       "    }\n",
       "\n",
       "    .dataframe tbody tr th {\n",
       "        vertical-align: top;\n",
       "    }\n",
       "\n",
       "    .dataframe thead th {\n",
       "        text-align: right;\n",
       "    }\n",
       "</style>\n",
       "<table border=\"1\" class=\"dataframe\">\n",
       "  <thead>\n",
       "    <tr style=\"text-align: right;\">\n",
       "      <th></th>\n",
       "      <th>Pregnancies</th>\n",
       "      <th>DiabetesPedigreeFunction</th>\n",
       "      <th>Age</th>\n",
       "      <th>Outcome</th>\n",
       "      <th>Glucose</th>\n",
       "      <th>BloodPressure</th>\n",
       "      <th>SkinThickness</th>\n",
       "      <th>Insulin</th>\n",
       "      <th>BMI</th>\n",
       "    </tr>\n",
       "  </thead>\n",
       "  <tbody>\n",
       "    <tr>\n",
       "      <th>0</th>\n",
       "      <td>6</td>\n",
       "      <td>0.627</td>\n",
       "      <td>50</td>\n",
       "      <td>1</td>\n",
       "      <td>148.0</td>\n",
       "      <td>72.0</td>\n",
       "      <td>35.00000</td>\n",
       "      <td>155.548223</td>\n",
       "      <td>33.6</td>\n",
       "    </tr>\n",
       "    <tr>\n",
       "      <th>1</th>\n",
       "      <td>1</td>\n",
       "      <td>0.351</td>\n",
       "      <td>31</td>\n",
       "      <td>0</td>\n",
       "      <td>85.0</td>\n",
       "      <td>66.0</td>\n",
       "      <td>29.00000</td>\n",
       "      <td>155.548223</td>\n",
       "      <td>26.6</td>\n",
       "    </tr>\n",
       "    <tr>\n",
       "      <th>2</th>\n",
       "      <td>8</td>\n",
       "      <td>0.672</td>\n",
       "      <td>32</td>\n",
       "      <td>1</td>\n",
       "      <td>183.0</td>\n",
       "      <td>64.0</td>\n",
       "      <td>29.15342</td>\n",
       "      <td>155.548223</td>\n",
       "      <td>23.3</td>\n",
       "    </tr>\n",
       "    <tr>\n",
       "      <th>3</th>\n",
       "      <td>1</td>\n",
       "      <td>0.167</td>\n",
       "      <td>21</td>\n",
       "      <td>0</td>\n",
       "      <td>89.0</td>\n",
       "      <td>66.0</td>\n",
       "      <td>23.00000</td>\n",
       "      <td>94.000000</td>\n",
       "      <td>28.1</td>\n",
       "    </tr>\n",
       "    <tr>\n",
       "      <th>4</th>\n",
       "      <td>0</td>\n",
       "      <td>2.288</td>\n",
       "      <td>33</td>\n",
       "      <td>1</td>\n",
       "      <td>137.0</td>\n",
       "      <td>40.0</td>\n",
       "      <td>35.00000</td>\n",
       "      <td>168.000000</td>\n",
       "      <td>43.1</td>\n",
       "    </tr>\n",
       "  </tbody>\n",
       "</table>\n",
       "</div>"
      ],
      "text/plain": [
       "   Pregnancies  DiabetesPedigreeFunction  Age  Outcome  Glucose  \\\n",
       "0            6                     0.627   50        1    148.0   \n",
       "1            1                     0.351   31        0     85.0   \n",
       "2            8                     0.672   32        1    183.0   \n",
       "3            1                     0.167   21        0     89.0   \n",
       "4            0                     2.288   33        1    137.0   \n",
       "\n",
       "   BloodPressure  SkinThickness     Insulin   BMI  \n",
       "0           72.0       35.00000  155.548223  33.6  \n",
       "1           66.0       29.00000  155.548223  26.6  \n",
       "2           64.0       29.15342  155.548223  23.3  \n",
       "3           66.0       23.00000   94.000000  28.1  \n",
       "4           40.0       35.00000  168.000000  43.1  "
      ]
     },
     "execution_count": 12,
     "metadata": {},
     "output_type": "execute_result"
    }
   ],
   "source": [
    "df=df.join(zcols)\n",
    "df.head()"
   ]
  },
  {
   "cell_type": "code",
   "execution_count": 13,
   "metadata": {
    "colab": {
     "base_uri": "https://localhost:8080/",
     "height": 187
    },
    "execution": {
     "iopub.execute_input": "2020-08-12T07:15:57.493108Z",
     "iopub.status.busy": "2020-08-12T07:15:57.492041Z",
     "iopub.status.idle": "2020-08-12T07:15:57.496619Z",
     "shell.execute_reply": "2020-08-12T07:15:57.497197Z"
    },
    "id": "TgiltJER4x32",
    "outputId": "764e8f6d-ff19-4390-b5a7-18b76f4d7ca2",
    "papermill": {
     "duration": 0.032178,
     "end_time": "2020-08-12T07:15:57.497377",
     "exception": false,
     "start_time": "2020-08-12T07:15:57.465199",
     "status": "completed"
    },
    "tags": []
   },
   "outputs": [
    {
     "data": {
      "text/plain": [
       "Pregnancies                   int64\n",
       "DiabetesPedigreeFunction    float64\n",
       "Age                           int64\n",
       "Outcome                       int64\n",
       "Glucose                     float64\n",
       "BloodPressure               float64\n",
       "SkinThickness               float64\n",
       "Insulin                     float64\n",
       "BMI                         float64\n",
       "dtype: object"
      ]
     },
     "execution_count": 13,
     "metadata": {},
     "output_type": "execute_result"
    }
   ],
   "source": [
    "df.dtypes"
   ]
  },
  {
   "cell_type": "markdown",
   "metadata": {
    "id": "Nq3FZWrv4x34",
    "papermill": {
     "duration": 0.019232,
     "end_time": "2020-08-12T07:15:57.536065",
     "exception": false,
     "start_time": "2020-08-12T07:15:57.516833",
     "status": "completed"
    },
    "tags": []
   },
   "source": [
    "All the O values have now been filled with median values"
   ]
  },
  {
   "cell_type": "code",
   "execution_count": 14,
   "metadata": {
    "colab": {
     "base_uri": "https://localhost:8080/",
     "height": 204
    },
    "execution": {
     "iopub.execute_input": "2020-08-12T07:15:57.603269Z",
     "iopub.status.busy": "2020-08-12T07:15:57.584322Z",
     "iopub.status.idle": "2020-08-12T07:15:57.610034Z",
     "shell.execute_reply": "2020-08-12T07:15:57.609191Z"
    },
    "id": "K-oh1dip4x34",
    "outputId": "6ff9a8ee-256e-4582-93f9-5afd96eff2f8",
    "papermill": {
     "duration": 0.054169,
     "end_time": "2020-08-12T07:15:57.610217",
     "exception": false,
     "start_time": "2020-08-12T07:15:57.556048",
     "status": "completed"
    },
    "tags": []
   },
   "outputs": [
    {
     "data": {
      "text/html": [
       "<div>\n",
       "<style scoped>\n",
       "    .dataframe tbody tr th:only-of-type {\n",
       "        vertical-align: middle;\n",
       "    }\n",
       "\n",
       "    .dataframe tbody tr th {\n",
       "        vertical-align: top;\n",
       "    }\n",
       "\n",
       "    .dataframe thead th {\n",
       "        text-align: right;\n",
       "    }\n",
       "</style>\n",
       "<table border=\"1\" class=\"dataframe\">\n",
       "  <thead>\n",
       "    <tr style=\"text-align: right;\">\n",
       "      <th></th>\n",
       "      <th>Pregnancies</th>\n",
       "      <th>DiabetesPedigreeFunction</th>\n",
       "      <th>Age</th>\n",
       "      <th>Glucose</th>\n",
       "      <th>BloodPressure</th>\n",
       "      <th>SkinThickness</th>\n",
       "      <th>Insulin</th>\n",
       "      <th>BMI</th>\n",
       "      <th>Outcome</th>\n",
       "    </tr>\n",
       "  </thead>\n",
       "  <tbody>\n",
       "    <tr>\n",
       "      <th>0</th>\n",
       "      <td>6</td>\n",
       "      <td>0.627</td>\n",
       "      <td>50</td>\n",
       "      <td>148.0</td>\n",
       "      <td>72.0</td>\n",
       "      <td>35.00000</td>\n",
       "      <td>155.548223</td>\n",
       "      <td>33.6</td>\n",
       "      <td>1</td>\n",
       "    </tr>\n",
       "    <tr>\n",
       "      <th>1</th>\n",
       "      <td>1</td>\n",
       "      <td>0.351</td>\n",
       "      <td>31</td>\n",
       "      <td>85.0</td>\n",
       "      <td>66.0</td>\n",
       "      <td>29.00000</td>\n",
       "      <td>155.548223</td>\n",
       "      <td>26.6</td>\n",
       "      <td>0</td>\n",
       "    </tr>\n",
       "    <tr>\n",
       "      <th>2</th>\n",
       "      <td>8</td>\n",
       "      <td>0.672</td>\n",
       "      <td>32</td>\n",
       "      <td>183.0</td>\n",
       "      <td>64.0</td>\n",
       "      <td>29.15342</td>\n",
       "      <td>155.548223</td>\n",
       "      <td>23.3</td>\n",
       "      <td>1</td>\n",
       "    </tr>\n",
       "    <tr>\n",
       "      <th>3</th>\n",
       "      <td>1</td>\n",
       "      <td>0.167</td>\n",
       "      <td>21</td>\n",
       "      <td>89.0</td>\n",
       "      <td>66.0</td>\n",
       "      <td>23.00000</td>\n",
       "      <td>94.000000</td>\n",
       "      <td>28.1</td>\n",
       "      <td>0</td>\n",
       "    </tr>\n",
       "    <tr>\n",
       "      <th>4</th>\n",
       "      <td>0</td>\n",
       "      <td>2.288</td>\n",
       "      <td>33</td>\n",
       "      <td>137.0</td>\n",
       "      <td>40.0</td>\n",
       "      <td>35.00000</td>\n",
       "      <td>168.000000</td>\n",
       "      <td>43.1</td>\n",
       "      <td>1</td>\n",
       "    </tr>\n",
       "  </tbody>\n",
       "</table>\n",
       "</div>"
      ],
      "text/plain": [
       "   Pregnancies  DiabetesPedigreeFunction  Age  Glucose  BloodPressure  \\\n",
       "0            6                     0.627   50    148.0           72.0   \n",
       "1            1                     0.351   31     85.0           66.0   \n",
       "2            8                     0.672   32    183.0           64.0   \n",
       "3            1                     0.167   21     89.0           66.0   \n",
       "4            0                     2.288   33    137.0           40.0   \n",
       "\n",
       "   SkinThickness     Insulin   BMI  Outcome  \n",
       "0       35.00000  155.548223  33.6        1  \n",
       "1       29.00000  155.548223  26.6        0  \n",
       "2       29.15342  155.548223  23.3        1  \n",
       "3       23.00000   94.000000  28.1        0  \n",
       "4       35.00000  168.000000  43.1        1  "
      ]
     },
     "execution_count": 14,
     "metadata": {},
     "output_type": "execute_result"
    }
   ],
   "source": [
    "outcome=df['Outcome']\n",
    "df.drop(['Outcome'], axis=1, inplace=True)\n",
    "df=df.join(outcome)\n",
    "df.head()"
   ]
  },
  {
   "cell_type": "code",
   "execution_count": 15,
   "metadata": {
    "execution": {
     "iopub.execute_input": "2020-08-12T07:15:57.658681Z",
     "iopub.status.busy": "2020-08-12T07:15:57.657835Z",
     "iopub.status.idle": "2020-08-12T07:15:57.662754Z",
     "shell.execute_reply": "2020-08-12T07:15:57.663347Z"
    },
    "id": "eWEzBm0_4x37",
    "papermill": {
     "duration": 0.03284,
     "end_time": "2020-08-12T07:15:57.663566",
     "exception": false,
     "start_time": "2020-08-12T07:15:57.630726",
     "status": "completed"
    },
    "tags": []
   },
   "outputs": [],
   "source": [
    "X=df.iloc[:,:-1]\n",
    "y=df.iloc[:,-1]"
   ]
  },
  {
   "cell_type": "code",
   "execution_count": 16,
   "metadata": {
    "colab": {
     "base_uri": "https://localhost:8080/",
     "height": 204
    },
    "execution": {
     "iopub.execute_input": "2020-08-12T07:15:57.723134Z",
     "iopub.status.busy": "2020-08-12T07:15:57.722027Z",
     "iopub.status.idle": "2020-08-12T07:15:57.727407Z",
     "shell.execute_reply": "2020-08-12T07:15:57.726645Z"
    },
    "id": "rDRooIHD4x39",
    "outputId": "c4403ea9-9a66-4eb9-a3ec-abfb2064f0bc",
    "papermill": {
     "duration": 0.044174,
     "end_time": "2020-08-12T07:15:57.727561",
     "exception": false,
     "start_time": "2020-08-12T07:15:57.683387",
     "status": "completed"
    },
    "tags": []
   },
   "outputs": [
    {
     "data": {
      "text/html": [
       "<div>\n",
       "<style scoped>\n",
       "    .dataframe tbody tr th:only-of-type {\n",
       "        vertical-align: middle;\n",
       "    }\n",
       "\n",
       "    .dataframe tbody tr th {\n",
       "        vertical-align: top;\n",
       "    }\n",
       "\n",
       "    .dataframe thead th {\n",
       "        text-align: right;\n",
       "    }\n",
       "</style>\n",
       "<table border=\"1\" class=\"dataframe\">\n",
       "  <thead>\n",
       "    <tr style=\"text-align: right;\">\n",
       "      <th></th>\n",
       "      <th>Pregnancies</th>\n",
       "      <th>DiabetesPedigreeFunction</th>\n",
       "      <th>Age</th>\n",
       "      <th>Glucose</th>\n",
       "      <th>BloodPressure</th>\n",
       "      <th>SkinThickness</th>\n",
       "      <th>Insulin</th>\n",
       "      <th>BMI</th>\n",
       "    </tr>\n",
       "  </thead>\n",
       "  <tbody>\n",
       "    <tr>\n",
       "      <th>0</th>\n",
       "      <td>6</td>\n",
       "      <td>0.627</td>\n",
       "      <td>50</td>\n",
       "      <td>148.0</td>\n",
       "      <td>72.0</td>\n",
       "      <td>35.00000</td>\n",
       "      <td>155.548223</td>\n",
       "      <td>33.6</td>\n",
       "    </tr>\n",
       "    <tr>\n",
       "      <th>1</th>\n",
       "      <td>1</td>\n",
       "      <td>0.351</td>\n",
       "      <td>31</td>\n",
       "      <td>85.0</td>\n",
       "      <td>66.0</td>\n",
       "      <td>29.00000</td>\n",
       "      <td>155.548223</td>\n",
       "      <td>26.6</td>\n",
       "    </tr>\n",
       "    <tr>\n",
       "      <th>2</th>\n",
       "      <td>8</td>\n",
       "      <td>0.672</td>\n",
       "      <td>32</td>\n",
       "      <td>183.0</td>\n",
       "      <td>64.0</td>\n",
       "      <td>29.15342</td>\n",
       "      <td>155.548223</td>\n",
       "      <td>23.3</td>\n",
       "    </tr>\n",
       "    <tr>\n",
       "      <th>3</th>\n",
       "      <td>1</td>\n",
       "      <td>0.167</td>\n",
       "      <td>21</td>\n",
       "      <td>89.0</td>\n",
       "      <td>66.0</td>\n",
       "      <td>23.00000</td>\n",
       "      <td>94.000000</td>\n",
       "      <td>28.1</td>\n",
       "    </tr>\n",
       "    <tr>\n",
       "      <th>4</th>\n",
       "      <td>0</td>\n",
       "      <td>2.288</td>\n",
       "      <td>33</td>\n",
       "      <td>137.0</td>\n",
       "      <td>40.0</td>\n",
       "      <td>35.00000</td>\n",
       "      <td>168.000000</td>\n",
       "      <td>43.1</td>\n",
       "    </tr>\n",
       "  </tbody>\n",
       "</table>\n",
       "</div>"
      ],
      "text/plain": [
       "   Pregnancies  DiabetesPedigreeFunction  Age  Glucose  BloodPressure  \\\n",
       "0            6                     0.627   50    148.0           72.0   \n",
       "1            1                     0.351   31     85.0           66.0   \n",
       "2            8                     0.672   32    183.0           64.0   \n",
       "3            1                     0.167   21     89.0           66.0   \n",
       "4            0                     2.288   33    137.0           40.0   \n",
       "\n",
       "   SkinThickness     Insulin   BMI  \n",
       "0       35.00000  155.548223  33.6  \n",
       "1       29.00000  155.548223  26.6  \n",
       "2       29.15342  155.548223  23.3  \n",
       "3       23.00000   94.000000  28.1  \n",
       "4       35.00000  168.000000  43.1  "
      ]
     },
     "execution_count": 16,
     "metadata": {},
     "output_type": "execute_result"
    }
   ],
   "source": [
    "X.head()"
   ]
  },
  {
   "cell_type": "code",
   "execution_count": 17,
   "metadata": {
    "colab": {
     "base_uri": "https://localhost:8080/",
     "height": 119
    },
    "execution": {
     "iopub.execute_input": "2020-08-12T07:15:57.775966Z",
     "iopub.status.busy": "2020-08-12T07:15:57.774820Z",
     "iopub.status.idle": "2020-08-12T07:15:57.779983Z",
     "shell.execute_reply": "2020-08-12T07:15:57.779312Z"
    },
    "id": "9gkLRqMM4x4A",
    "outputId": "cea8db14-3be6-44ea-c38e-75df791b3b23",
    "papermill": {
     "duration": 0.032274,
     "end_time": "2020-08-12T07:15:57.780117",
     "exception": false,
     "start_time": "2020-08-12T07:15:57.747843",
     "status": "completed"
    },
    "tags": []
   },
   "outputs": [
    {
     "data": {
      "text/plain": [
       "0    1\n",
       "1    0\n",
       "2    1\n",
       "3    0\n",
       "4    1\n",
       "Name: Outcome, dtype: int64"
      ]
     },
     "execution_count": 17,
     "metadata": {},
     "output_type": "execute_result"
    }
   ],
   "source": [
    "y.head()"
   ]
  },
  {
   "cell_type": "markdown",
   "metadata": {
    "id": "oBP_LO_S65Fo"
   },
   "source": [
    "# Train, Test Split"
   ]
  },
  {
   "cell_type": "markdown",
   "metadata": {
    "id": "vBcR4uQB7qqC"
   },
   "source": [
    "Split the dataset into train and test sets in a way that preserves the same proportions of observations in each class as observed dataset"
   ]
  },
  {
   "cell_type": "code",
   "execution_count": 18,
   "metadata": {
    "execution": {
     "iopub.execute_input": "2020-08-12T07:15:57.829613Z",
     "iopub.status.busy": "2020-08-12T07:15:57.828804Z",
     "iopub.status.idle": "2020-08-12T07:15:57.839997Z",
     "shell.execute_reply": "2020-08-12T07:15:57.839008Z"
    },
    "id": "HzBAXvpQ4x4C",
    "papermill": {
     "duration": 0.039092,
     "end_time": "2020-08-12T07:15:57.840147",
     "exception": false,
     "start_time": "2020-08-12T07:15:57.801055",
     "status": "completed"
    },
    "tags": []
   },
   "outputs": [],
   "source": [
    "# stratify the outcome\n",
    "from sklearn.model_selection import train_test_split\n",
    "X_train,X_test,y_train, y_test=train_test_split(X,y,test_size=0.25,random_state=0,stratify=y)\n",
    "#stratify=y"
   ]
  },
  {
   "cell_type": "code",
   "execution_count": 19,
   "metadata": {
    "colab": {
     "base_uri": "https://localhost:8080/",
     "height": 204
    },
    "execution": {
     "iopub.execute_input": "2020-08-12T07:15:57.900171Z",
     "iopub.status.busy": "2020-08-12T07:15:57.899059Z",
     "iopub.status.idle": "2020-08-12T07:15:57.904599Z",
     "shell.execute_reply": "2020-08-12T07:15:57.903967Z"
    },
    "id": "QR8On6V54x4E",
    "outputId": "d09f60b8-b3b5-40ec-aa76-d5b786cea8c0",
    "papermill": {
     "duration": 0.043537,
     "end_time": "2020-08-12T07:15:57.904744",
     "exception": false,
     "start_time": "2020-08-12T07:15:57.861207",
     "status": "completed"
    },
    "tags": []
   },
   "outputs": [
    {
     "data": {
      "text/html": [
       "<div>\n",
       "<style scoped>\n",
       "    .dataframe tbody tr th:only-of-type {\n",
       "        vertical-align: middle;\n",
       "    }\n",
       "\n",
       "    .dataframe tbody tr th {\n",
       "        vertical-align: top;\n",
       "    }\n",
       "\n",
       "    .dataframe thead th {\n",
       "        text-align: right;\n",
       "    }\n",
       "</style>\n",
       "<table border=\"1\" class=\"dataframe\">\n",
       "  <thead>\n",
       "    <tr style=\"text-align: right;\">\n",
       "      <th></th>\n",
       "      <th>Pregnancies</th>\n",
       "      <th>DiabetesPedigreeFunction</th>\n",
       "      <th>Age</th>\n",
       "      <th>Glucose</th>\n",
       "      <th>BloodPressure</th>\n",
       "      <th>SkinThickness</th>\n",
       "      <th>Insulin</th>\n",
       "      <th>BMI</th>\n",
       "    </tr>\n",
       "  </thead>\n",
       "  <tbody>\n",
       "    <tr>\n",
       "      <th>432</th>\n",
       "      <td>1</td>\n",
       "      <td>0.527</td>\n",
       "      <td>22</td>\n",
       "      <td>80.0</td>\n",
       "      <td>74.000000</td>\n",
       "      <td>11.00000</td>\n",
       "      <td>60.000000</td>\n",
       "      <td>30.000000</td>\n",
       "    </tr>\n",
       "    <tr>\n",
       "      <th>453</th>\n",
       "      <td>2</td>\n",
       "      <td>0.832</td>\n",
       "      <td>72</td>\n",
       "      <td>119.0</td>\n",
       "      <td>72.405184</td>\n",
       "      <td>29.15342</td>\n",
       "      <td>155.548223</td>\n",
       "      <td>19.600000</td>\n",
       "    </tr>\n",
       "    <tr>\n",
       "      <th>706</th>\n",
       "      <td>10</td>\n",
       "      <td>0.261</td>\n",
       "      <td>30</td>\n",
       "      <td>115.0</td>\n",
       "      <td>72.405184</td>\n",
       "      <td>29.15342</td>\n",
       "      <td>155.548223</td>\n",
       "      <td>32.457464</td>\n",
       "    </tr>\n",
       "    <tr>\n",
       "      <th>606</th>\n",
       "      <td>1</td>\n",
       "      <td>1.258</td>\n",
       "      <td>22</td>\n",
       "      <td>181.0</td>\n",
       "      <td>78.000000</td>\n",
       "      <td>42.00000</td>\n",
       "      <td>293.000000</td>\n",
       "      <td>40.000000</td>\n",
       "    </tr>\n",
       "    <tr>\n",
       "      <th>118</th>\n",
       "      <td>4</td>\n",
       "      <td>0.443</td>\n",
       "      <td>22</td>\n",
       "      <td>97.0</td>\n",
       "      <td>60.000000</td>\n",
       "      <td>23.00000</td>\n",
       "      <td>155.548223</td>\n",
       "      <td>28.200000</td>\n",
       "    </tr>\n",
       "  </tbody>\n",
       "</table>\n",
       "</div>"
      ],
      "text/plain": [
       "     Pregnancies  DiabetesPedigreeFunction  Age  Glucose  BloodPressure  \\\n",
       "432            1                     0.527   22     80.0      74.000000   \n",
       "453            2                     0.832   72    119.0      72.405184   \n",
       "706           10                     0.261   30    115.0      72.405184   \n",
       "606            1                     1.258   22    181.0      78.000000   \n",
       "118            4                     0.443   22     97.0      60.000000   \n",
       "\n",
       "     SkinThickness     Insulin        BMI  \n",
       "432       11.00000   60.000000  30.000000  \n",
       "453       29.15342  155.548223  19.600000  \n",
       "706       29.15342  155.548223  32.457464  \n",
       "606       42.00000  293.000000  40.000000  \n",
       "118       23.00000  155.548223  28.200000  "
      ]
     },
     "execution_count": 19,
     "metadata": {},
     "output_type": "execute_result"
    }
   ],
   "source": [
    "X_train.head()"
   ]
  },
  {
   "cell_type": "code",
   "execution_count": 20,
   "metadata": {
    "colab": {
     "base_uri": "https://localhost:8080/",
     "height": 204
    },
    "execution": {
     "iopub.execute_input": "2020-08-12T07:15:57.966176Z",
     "iopub.status.busy": "2020-08-12T07:15:57.965149Z",
     "iopub.status.idle": "2020-08-12T07:15:57.971480Z",
     "shell.execute_reply": "2020-08-12T07:15:57.970792Z"
    },
    "id": "4t5TU2yz4x4H",
    "outputId": "aea2057d-f73e-4846-fe6d-edb3d5a7e7ce",
    "papermill": {
     "duration": 0.046004,
     "end_time": "2020-08-12T07:15:57.971618",
     "exception": false,
     "start_time": "2020-08-12T07:15:57.925614",
     "status": "completed"
    },
    "tags": []
   },
   "outputs": [
    {
     "data": {
      "text/html": [
       "<div>\n",
       "<style scoped>\n",
       "    .dataframe tbody tr th:only-of-type {\n",
       "        vertical-align: middle;\n",
       "    }\n",
       "\n",
       "    .dataframe tbody tr th {\n",
       "        vertical-align: top;\n",
       "    }\n",
       "\n",
       "    .dataframe thead th {\n",
       "        text-align: right;\n",
       "    }\n",
       "</style>\n",
       "<table border=\"1\" class=\"dataframe\">\n",
       "  <thead>\n",
       "    <tr style=\"text-align: right;\">\n",
       "      <th></th>\n",
       "      <th>Pregnancies</th>\n",
       "      <th>DiabetesPedigreeFunction</th>\n",
       "      <th>Age</th>\n",
       "      <th>Glucose</th>\n",
       "      <th>BloodPressure</th>\n",
       "      <th>SkinThickness</th>\n",
       "      <th>Insulin</th>\n",
       "      <th>BMI</th>\n",
       "    </tr>\n",
       "  </thead>\n",
       "  <tbody>\n",
       "    <tr>\n",
       "      <th>147</th>\n",
       "      <td>2</td>\n",
       "      <td>1.400</td>\n",
       "      <td>34</td>\n",
       "      <td>106.0</td>\n",
       "      <td>64.0</td>\n",
       "      <td>35.00000</td>\n",
       "      <td>119.000000</td>\n",
       "      <td>30.5</td>\n",
       "    </tr>\n",
       "    <tr>\n",
       "      <th>565</th>\n",
       "      <td>2</td>\n",
       "      <td>0.748</td>\n",
       "      <td>22</td>\n",
       "      <td>95.0</td>\n",
       "      <td>54.0</td>\n",
       "      <td>14.00000</td>\n",
       "      <td>88.000000</td>\n",
       "      <td>26.1</td>\n",
       "    </tr>\n",
       "    <tr>\n",
       "      <th>390</th>\n",
       "      <td>1</td>\n",
       "      <td>0.444</td>\n",
       "      <td>42</td>\n",
       "      <td>100.0</td>\n",
       "      <td>66.0</td>\n",
       "      <td>29.00000</td>\n",
       "      <td>196.000000</td>\n",
       "      <td>32.0</td>\n",
       "    </tr>\n",
       "    <tr>\n",
       "      <th>736</th>\n",
       "      <td>0</td>\n",
       "      <td>0.515</td>\n",
       "      <td>21</td>\n",
       "      <td>126.0</td>\n",
       "      <td>86.0</td>\n",
       "      <td>27.00000</td>\n",
       "      <td>120.000000</td>\n",
       "      <td>27.4</td>\n",
       "    </tr>\n",
       "    <tr>\n",
       "      <th>587</th>\n",
       "      <td>6</td>\n",
       "      <td>0.249</td>\n",
       "      <td>29</td>\n",
       "      <td>103.0</td>\n",
       "      <td>66.0</td>\n",
       "      <td>29.15342</td>\n",
       "      <td>155.548223</td>\n",
       "      <td>24.3</td>\n",
       "    </tr>\n",
       "  </tbody>\n",
       "</table>\n",
       "</div>"
      ],
      "text/plain": [
       "     Pregnancies  DiabetesPedigreeFunction  Age  Glucose  BloodPressure  \\\n",
       "147            2                     1.400   34    106.0           64.0   \n",
       "565            2                     0.748   22     95.0           54.0   \n",
       "390            1                     0.444   42    100.0           66.0   \n",
       "736            0                     0.515   21    126.0           86.0   \n",
       "587            6                     0.249   29    103.0           66.0   \n",
       "\n",
       "     SkinThickness     Insulin   BMI  \n",
       "147       35.00000  119.000000  30.5  \n",
       "565       14.00000   88.000000  26.1  \n",
       "390       29.00000  196.000000  32.0  \n",
       "736       27.00000  120.000000  27.4  \n",
       "587       29.15342  155.548223  24.3  "
      ]
     },
     "execution_count": 20,
     "metadata": {},
     "output_type": "execute_result"
    }
   ],
   "source": [
    "X_test.head()"
   ]
  },
  {
   "cell_type": "markdown",
   "metadata": {
    "id": "L_NfDmwv4x4I",
    "papermill": {
     "duration": 0.022527,
     "end_time": "2020-08-12T07:15:58.016055",
     "exception": false,
     "start_time": "2020-08-12T07:15:57.993528",
     "status": "completed"
    },
    "tags": []
   },
   "source": [
    "# Apply ML Algorithms"
   ]
  },
  {
   "cell_type": "code",
   "execution_count": 21,
   "metadata": {
    "execution": {
     "iopub.execute_input": "2020-08-12T07:15:58.064559Z",
     "iopub.status.busy": "2020-08-12T07:15:58.063454Z",
     "iopub.status.idle": "2020-08-12T07:15:58.067399Z",
     "shell.execute_reply": "2020-08-12T07:15:58.066420Z"
    },
    "id": "9_OpvuIB4x4J",
    "papermill": {
     "duration": 0.03028,
     "end_time": "2020-08-12T07:15:58.067584",
     "exception": false,
     "start_time": "2020-08-12T07:15:58.037304",
     "status": "completed"
    },
    "tags": []
   },
   "outputs": [],
   "source": [
    "from sklearn.model_selection import cross_val_score\n",
    "from sklearn.naive_bayes import GaussianNB\n",
    "from sklearn.linear_model import LogisticRegression\n",
    "from sklearn import tree\n",
    "from sklearn.neighbors import KNeighborsClassifier\n",
    "from sklearn.ensemble import RandomForestClassifier\n",
    "from sklearn.ensemble import VotingClassifier\n",
    "\n",
    "from sklearn.model_selection import RandomizedSearchCV\n",
    "from sklearn.model_selection import GridSearchCV\n",
    "from sklearn.model_selection import StratifiedKFold\n",
    "kfold = StratifiedKFold(n_splits=8)\n",
    "from sklearn import metrics\n",
    "from sklearn.metrics import confusion_matrix\n",
    "from sklearn.metrics import recall_score\n",
    "from sklearn.metrics import classification_report"
   ]
  },
  {
   "cell_type": "markdown",
   "metadata": {},
   "source": [
    "Logistic Regression"
   ]
  },
  {
   "cell_type": "code",
   "execution_count": 22,
   "metadata": {
    "scrolled": true
   },
   "outputs": [
    {
     "name": "stderr",
     "output_type": "stream",
     "text": [
      "/home/allyson/anaconda3/envs/diabetes/lib/python3.6/site-packages/sklearn/linear_model/_logistic.py:764: ConvergenceWarning: lbfgs failed to converge (status=1):\n",
      "STOP: TOTAL NO. of ITERATIONS REACHED LIMIT.\n",
      "\n",
      "Increase the number of iterations (max_iter) or scale the data as shown in:\n",
      "    https://scikit-learn.org/stable/modules/preprocessing.html\n",
      "Please also refer to the documentation for alternative solver options:\n",
      "    https://scikit-learn.org/stable/modules/linear_model.html#logistic-regression\n",
      "  extra_warning_msg=_LOGISTIC_SOLVER_CONVERGENCE_MSG)\n",
      "/home/allyson/anaconda3/envs/diabetes/lib/python3.6/site-packages/sklearn/linear_model/_logistic.py:764: ConvergenceWarning: lbfgs failed to converge (status=1):\n",
      "STOP: TOTAL NO. of ITERATIONS REACHED LIMIT.\n",
      "\n",
      "Increase the number of iterations (max_iter) or scale the data as shown in:\n",
      "    https://scikit-learn.org/stable/modules/preprocessing.html\n",
      "Please also refer to the documentation for alternative solver options:\n",
      "    https://scikit-learn.org/stable/modules/linear_model.html#logistic-regression\n",
      "  extra_warning_msg=_LOGISTIC_SOLVER_CONVERGENCE_MSG)\n",
      "/home/allyson/anaconda3/envs/diabetes/lib/python3.6/site-packages/sklearn/linear_model/_logistic.py:764: ConvergenceWarning: lbfgs failed to converge (status=1):\n",
      "STOP: TOTAL NO. of ITERATIONS REACHED LIMIT.\n",
      "\n",
      "Increase the number of iterations (max_iter) or scale the data as shown in:\n",
      "    https://scikit-learn.org/stable/modules/preprocessing.html\n",
      "Please also refer to the documentation for alternative solver options:\n",
      "    https://scikit-learn.org/stable/modules/linear_model.html#logistic-regression\n",
      "  extra_warning_msg=_LOGISTIC_SOLVER_CONVERGENCE_MSG)\n",
      "/home/allyson/anaconda3/envs/diabetes/lib/python3.6/site-packages/sklearn/linear_model/_logistic.py:764: ConvergenceWarning: lbfgs failed to converge (status=1):\n",
      "STOP: TOTAL NO. of ITERATIONS REACHED LIMIT.\n",
      "\n",
      "Increase the number of iterations (max_iter) or scale the data as shown in:\n",
      "    https://scikit-learn.org/stable/modules/preprocessing.html\n",
      "Please also refer to the documentation for alternative solver options:\n",
      "    https://scikit-learn.org/stable/modules/linear_model.html#logistic-regression\n",
      "  extra_warning_msg=_LOGISTIC_SOLVER_CONVERGENCE_MSG)\n",
      "/home/allyson/anaconda3/envs/diabetes/lib/python3.6/site-packages/sklearn/linear_model/_logistic.py:764: ConvergenceWarning: lbfgs failed to converge (status=1):\n",
      "STOP: TOTAL NO. of ITERATIONS REACHED LIMIT.\n",
      "\n",
      "Increase the number of iterations (max_iter) or scale the data as shown in:\n",
      "    https://scikit-learn.org/stable/modules/preprocessing.html\n",
      "Please also refer to the documentation for alternative solver options:\n",
      "    https://scikit-learn.org/stable/modules/linear_model.html#logistic-regression\n",
      "  extra_warning_msg=_LOGISTIC_SOLVER_CONVERGENCE_MSG)\n",
      "/home/allyson/anaconda3/envs/diabetes/lib/python3.6/site-packages/sklearn/linear_model/_logistic.py:764: ConvergenceWarning: lbfgs failed to converge (status=1):\n",
      "STOP: TOTAL NO. of ITERATIONS REACHED LIMIT.\n",
      "\n",
      "Increase the number of iterations (max_iter) or scale the data as shown in:\n",
      "    https://scikit-learn.org/stable/modules/preprocessing.html\n",
      "Please also refer to the documentation for alternative solver options:\n",
      "    https://scikit-learn.org/stable/modules/linear_model.html#logistic-regression\n",
      "  extra_warning_msg=_LOGISTIC_SOLVER_CONVERGENCE_MSG)\n",
      "/home/allyson/anaconda3/envs/diabetes/lib/python3.6/site-packages/sklearn/linear_model/_logistic.py:764: ConvergenceWarning: lbfgs failed to converge (status=1):\n",
      "STOP: TOTAL NO. of ITERATIONS REACHED LIMIT.\n",
      "\n",
      "Increase the number of iterations (max_iter) or scale the data as shown in:\n",
      "    https://scikit-learn.org/stable/modules/preprocessing.html\n",
      "Please also refer to the documentation for alternative solver options:\n",
      "    https://scikit-learn.org/stable/modules/linear_model.html#logistic-regression\n",
      "  extra_warning_msg=_LOGISTIC_SOLVER_CONVERGENCE_MSG)\n",
      "/home/allyson/anaconda3/envs/diabetes/lib/python3.6/site-packages/sklearn/linear_model/_logistic.py:764: ConvergenceWarning: lbfgs failed to converge (status=1):\n",
      "STOP: TOTAL NO. of ITERATIONS REACHED LIMIT.\n",
      "\n",
      "Increase the number of iterations (max_iter) or scale the data as shown in:\n",
      "    https://scikit-learn.org/stable/modules/preprocessing.html\n",
      "Please also refer to the documentation for alternative solver options:\n",
      "    https://scikit-learn.org/stable/modules/linear_model.html#logistic-regression\n",
      "  extra_warning_msg=_LOGISTIC_SOLVER_CONVERGENCE_MSG)\n"
     ]
    },
    {
     "name": "stdout",
     "output_type": "stream",
     "text": [
      "[0.73611111 0.75       0.69444444 0.77777778 0.81944444 0.69444444\n",
      " 0.79166667 0.72222222]\n",
      "74.82638888888889\n",
      "The accuracy of the Logistic Regression is 76.5625\n",
      "[[109  16]\n",
      " [ 29  38]]\n",
      "              precision    recall  f1-score   support\n",
      "\n",
      "           0       0.79      0.87      0.83       125\n",
      "           1       0.70      0.57      0.63        67\n",
      "\n",
      "    accuracy                           0.77       192\n",
      "   macro avg       0.75      0.72      0.73       192\n",
      "weighted avg       0.76      0.77      0.76       192\n",
      "\n"
     ]
    },
    {
     "name": "stderr",
     "output_type": "stream",
     "text": [
      "/home/allyson/anaconda3/envs/diabetes/lib/python3.6/site-packages/sklearn/linear_model/_logistic.py:764: ConvergenceWarning: lbfgs failed to converge (status=1):\n",
      "STOP: TOTAL NO. of ITERATIONS REACHED LIMIT.\n",
      "\n",
      "Increase the number of iterations (max_iter) or scale the data as shown in:\n",
      "    https://scikit-learn.org/stable/modules/preprocessing.html\n",
      "Please also refer to the documentation for alternative solver options:\n",
      "    https://scikit-learn.org/stable/modules/linear_model.html#logistic-regression\n",
      "  extra_warning_msg=_LOGISTIC_SOLVER_CONVERGENCE_MSG)\n"
     ]
    }
   ],
   "source": [
    "#Logistic Regression\n",
    "lr = LogisticRegression(random_state=0)\n",
    "cv = cross_val_score(lr,X_train,y_train,cv=kfold)\n",
    "print(cv)\n",
    "print(cv.mean()*100)\n",
    "lr.fit(X_train,y_train)\n",
    "y_pred_lr=lr.predict(X_test)\n",
    "print('The accuracy of the Logistic Regression is',metrics.accuracy_score(y_pred_lr,y_test)*100)\n",
    "cm=confusion_matrix(y_test, y_pred_lr)\n",
    "print(cm)\n",
    "print(classification_report(y_test, y_pred_lr))"
   ]
  },
  {
   "cell_type": "markdown",
   "metadata": {},
   "source": [
    "KNN"
   ]
  },
  {
   "cell_type": "code",
   "execution_count": 23,
   "metadata": {},
   "outputs": [
    {
     "name": "stdout",
     "output_type": "stream",
     "text": [
      "[0.69444444 0.73611111 0.76388889 0.73611111 0.76388889 0.76388889\n",
      " 0.72222222 0.72222222]\n",
      "73.78472222222221\n",
      "The accuracy of the K-Neighbors Classifier is 75.52083333333334\n",
      "[[107  18]\n",
      " [ 29  38]]\n",
      "              precision    recall  f1-score   support\n",
      "\n",
      "           0       0.79      0.86      0.82       125\n",
      "           1       0.68      0.57      0.62        67\n",
      "\n",
      "    accuracy                           0.76       192\n",
      "   macro avg       0.73      0.71      0.72       192\n",
      "weighted avg       0.75      0.76      0.75       192\n",
      "\n"
     ]
    }
   ],
   "source": [
    "#KNN\n",
    "knn = KNeighborsClassifier(n_neighbors = 15, metric = 'minkowski', p = 2, \n",
    "                           leaf_size = 5,weights='distance')\n",
    "knn.fit(X_train, y_train)\n",
    "cv = cross_val_score(knn,X_train,y_train,cv=kfold)\n",
    "print(cv)\n",
    "print(cv.mean()*100)\n",
    "y_pred_knn = knn.predict(X_test)\n",
    "print('The accuracy of the K-Neighbors Classifier is',metrics.accuracy_score(y_pred_knn,y_test)*100)\n",
    "cm=confusion_matrix(y_test, y_pred_knn)\n",
    "print(cm)\n",
    "print(classification_report(y_test, y_pred_knn))"
   ]
  },
  {
   "cell_type": "markdown",
   "metadata": {
    "id": "nSZh7XtC4x4a",
    "papermill": {
     "duration": 0.023335,
     "end_time": "2020-08-12T07:15:58.702047",
     "exception": false,
     "start_time": "2020-08-12T07:15:58.678712",
     "status": "completed"
    },
    "tags": []
   },
   "source": [
    "Random Forest Classifier"
   ]
  },
  {
   "cell_type": "code",
   "execution_count": 24,
   "metadata": {
    "colab": {
     "base_uri": "https://localhost:8080/",
     "height": 171
    },
    "execution": {
     "iopub.execute_input": "2020-08-12T07:15:58.813349Z",
     "iopub.status.busy": "2020-08-12T07:15:58.812389Z",
     "iopub.status.idle": "2020-08-12T07:15:58.818230Z",
     "shell.execute_reply": "2020-08-12T07:15:58.817345Z"
    },
    "id": "cimxo6aX4x4b",
    "outputId": "8c517f45-0bcb-4ca4-dddc-db68a490c2c1",
    "papermill": {
     "duration": 0.037883,
     "end_time": "2020-08-12T07:15:58.818397",
     "exception": false,
     "start_time": "2020-08-12T07:15:58.780514",
     "status": "completed"
    },
    "tags": []
   },
   "outputs": [
    {
     "name": "stdout",
     "output_type": "stream",
     "text": [
      "[0.72222222 0.80555556 0.76388889 0.80555556 0.79166667 0.72222222\n",
      " 0.76388889 0.73611111]\n",
      "76.38888888888889\n",
      "The accuracy of the RandomForestClassifier is 77.60416666666666\n",
      "[[109  16]\n",
      " [ 27  40]]\n",
      "              precision    recall  f1-score   support\n",
      "\n",
      "           0       0.80      0.87      0.84       125\n",
      "           1       0.71      0.60      0.65        67\n",
      "\n",
      "    accuracy                           0.78       192\n",
      "   macro avg       0.76      0.73      0.74       192\n",
      "weighted avg       0.77      0.78      0.77       192\n",
      "\n"
     ]
    }
   ],
   "source": [
    "#Random Forest Classifier\n",
    "rf = RandomForestClassifier(criterion='entropy', max_depth=40, max_features='log2',\n",
    "                       min_samples_leaf=4, min_samples_split=8,\n",
    "                       n_estimators=500, random_state=0)\n",
    "rf.fit(X_train, y_train)\n",
    "cv = cross_val_score(rf,X_train,y_train,cv=kfold)\n",
    "print(cv)\n",
    "print(cv.mean()*100)\n",
    "y_pred_rf = rf.predict(X_test)\n",
    "print('The accuracy of the RandomForestClassifier is',metrics.accuracy_score(y_pred_rf,y_test)*100)\n",
    "cm=confusion_matrix(y_test, y_pred_rf)\n",
    "print(cm)\n",
    "print(classification_report(y_test, y_pred_rf))"
   ]
  },
  {
   "cell_type": "markdown",
   "metadata": {},
   "source": [
    "# Save the model as a Pickle"
   ]
  },
  {
   "cell_type": "code",
   "execution_count": 25,
   "metadata": {},
   "outputs": [],
   "source": [
    "import pickle\n",
    "pickle.dump(rf, open(\"rf.pkl\", \"wb\"))"
   ]
  }
 ],
 "metadata": {
  "colab": {
   "name": "pima-diabetes-classification.ipynb",
   "provenance": []
  },
  "kernelspec": {
   "display_name": "Python 3",
   "language": "python",
   "name": "python3"
  },
  "language_info": {
   "codemirror_mode": {
    "name": "ipython",
    "version": 3
   },
   "file_extension": ".py",
   "mimetype": "text/x-python",
   "name": "python",
   "nbconvert_exporter": "python",
   "pygments_lexer": "ipython3",
   "version": "3.6.12"
  },
  "papermill": {
   "duration": 139.081324,
   "end_time": "2020-08-12T07:18:06.422845",
   "environment_variables": {},
   "exception": null,
   "input_path": "__notebook__.ipynb",
   "output_path": "__notebook__.ipynb",
   "parameters": {},
   "start_time": "2020-08-12T07:15:47.341521",
   "version": "2.1.0"
  }
 },
 "nbformat": 4,
 "nbformat_minor": 1
}
